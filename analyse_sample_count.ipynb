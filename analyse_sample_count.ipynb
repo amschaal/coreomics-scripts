{
 "cells": [
  {
   "cell_type": "code",
   "execution_count": null,
   "metadata": {},
   "outputs": [],
   "source": [
    "import pandas as pd\n",
    "\n",
    "# Load the TSV file obtained from exporting the submission\n",
    "file_path = 'submissions.tsv'\n",
    "df = pd.read_csv(file_path, delimiter=\"\\t\")\n",
    "\n",
    "# Display the first few rows of the data\n",
    "df.head()"
   ]
  },
  {
   "cell_type": "code",
   "execution_count": null,
   "metadata": {},
   "outputs": [],
   "source": [
    "# Convert Submitted column to datetime\n",
    "df['Submitted'] = pd.to_datetime(df['Submitted'], errors='coerce').dt.to_period('M')\n",
    "sample_count = df.sort_values(['Type','Submitted']).groupby(['Type', 'Submitted'], sort=False)[['samples','libraries']].sum()\n",
    "\n",
    "# Get combined samples and library numbers for each type\n",
    "sample_count['all'] = sample_count['samples'] + sample_count['libraries']\n",
    "sample_count.to_csv('samplecount.csv')"
   ]
  },
  {
   "cell_type": "code",
   "execution_count": null,
   "metadata": {},
   "outputs": [],
   "source": [
    "# Plot samples monthly (remove \"Type\" from multiindex with unstack), with each type as a subplot\n",
    "plot = sample_count.unstack(level=0).plot(kind='bar', subplots=True, y='all', figsize=(15, 100), layout=(-1, 1))"
   ]
  },
  {
   "cell_type": "code",
   "execution_count": null,
   "metadata": {},
   "outputs": [],
   "source": [
    "# Plot sample count for each submission type as individual plot\n",
    "for t in sample_count.index.get_level_values('Type').unique():\n",
    "    # Get a temporary dataframe for all monthly values aggregated for this type\n",
    "    temp_df = sample_count.loc[[t]].reset_index(level=0, drop=True)\n",
    "    # Resasmple submitted index per month, filling in values of 0 where empty\n",
    "    temp_df = temp_df.resample('M').asfreq(fill_value=0)\n",
    "    # Plot\n",
    "    plot = temp_df.plot(kind='bar', y='all', title=t, figsize=(15, 10))"
   ]
  },
  {
   "cell_type": "code",
   "execution_count": null,
   "metadata": {},
   "outputs": [],
   "source": []
  },
  {
   "cell_type": "code",
   "execution_count": null,
   "metadata": {},
   "outputs": [],
   "source": []
  }
 ],
 "metadata": {
  "kernelspec": {
   "display_name": "Python 3 (ipykernel)",
   "language": "python",
   "name": "python3"
  },
  "language_info": {
   "codemirror_mode": {
    "name": "ipython",
    "version": 3
   },
   "file_extension": ".py",
   "mimetype": "text/x-python",
   "name": "python",
   "nbconvert_exporter": "python",
   "pygments_lexer": "ipython3",
   "version": "3.9.6"
  }
 },
 "nbformat": 4,
 "nbformat_minor": 4
}
