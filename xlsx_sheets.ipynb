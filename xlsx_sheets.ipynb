{
 "cells": [
  {
   "cell_type": "code",
   "execution_count": null,
   "metadata": {
    "colab": {
     "base_uri": "https://localhost:8080/"
    },
    "id": "XM2-Welj7Im2",
    "outputId": "a4bebead-44b6-4e17-f165-488c52b53c37"
   },
   "outputs": [],
   "source": [
    "\"\"\"\n",
    "This notebook shows how to open an excel file containing multiple sheets and import each into a dataframe.\n",
    "The first sheet contains the main submission information, including custom variables.\n",
    "Subsequent sheets contain information contained in custom tables, such as samples, libraries, or pools.\n",
    "Each dataframe is joined with data from the submission dataframe, allowing analysis at both the table and submission level.\n",
    "\"\"\"\n",
    "\n",
    "import pandas as pd\n",
    "\n",
    "# Filter and download a set of submissions using the \"XLSX (w/ tables)\" export option.\n",
    "excel_file = 'submissions.xlsx'\n",
    "xls = pd.ExcelFile(excel_file)\n",
    "\n",
    "# Create a dictionary to store DataFrames for each sheet\n",
    "sheet_dataframes = {}\n",
    "\n",
    "for sheet_name in xls.sheet_names:\n",
    "  df = pd.read_excel(excel_file, sheet_name=sheet_name)\n",
    "  sheet_dataframes[sheet_name] = df\n",
    "\n",
    "# Now you have a dictionary where keys are sheet names and values are corresponding DataFrames.\n",
    "# Example: Access the DataFrame for the 'samples' sheet:\n",
    "# sheet_dataframes['samples']\n",
    "sheet_dataframes.keys()"
   ]
  },
  {
   "cell_type": "code",
   "execution_count": null,
   "metadata": {
    "colab": {
     "base_uri": "https://localhost:8080/"
    },
    "id": "gPMnZtXg7qQd",
    "outputId": "fe6df8db-10ac-4d5c-ee1b-a5554abb28fe"
   },
   "outputs": [],
   "source": [
    "# Join the DataFrames with the submission dataframe\n",
    "\n",
    "joined_dfs = {}\n",
    "submissions_df = sheet_dataframes.pop('submissions') # We will join everything to this dataframe\n",
    "\n",
    "for sheet_name, sheet_df in sheet_dataframes.items():\n",
    "    joined_dfs[sheet_name] = pd.merge(submissions_df, sheet_df, left_on='ID', right_on='submission_id', how='inner')"
   ]
  },
  {
   "cell_type": "code",
   "execution_count": null,
   "metadata": {},
   "outputs": [],
   "source": [
    "# Given a list of column names, group data from the DataFrame by the column names, and create an aggregated count for each set of grouped data.\n",
    "joined_df = joined_dfs['samples'] # Taking the merged table for 'samples'\n",
    "column_names = ['Institute', 'organism']  # Example, choose any columns from the DataFrame.\n",
    "grouped_data = joined_df.groupby(column_names).size().reset_index(name='count')\n",
    "grouped_data = grouped_data.sort_values(column_names, ascending=True) # Sort the data in ascending order\n",
    "grouped_data"
   ]
  }
 ],
 "metadata": {
  "colab": {
   "provenance": []
  },
  "kernelspec": {
   "display_name": "Python 3 (ipykernel)",
   "language": "python",
   "name": "python3"
  },
  "language_info": {
   "codemirror_mode": {
    "name": "ipython",
    "version": 3
   },
   "file_extension": ".py",
   "mimetype": "text/x-python",
   "name": "python",
   "nbconvert_exporter": "python",
   "pygments_lexer": "ipython3",
   "version": "3.9.6"
  }
 },
 "nbformat": 4,
 "nbformat_minor": 4
}
