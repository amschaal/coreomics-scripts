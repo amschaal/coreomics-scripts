{
 "cells": [
  {
   "cell_type": "code",
   "execution_count": null,
   "id": "d5d6a16b",
   "metadata": {},
   "outputs": [],
   "source": [
    "import pandas as pd\n",
    "import matplotlib.pyplot as plt\n",
    "\n",
    "# Load the TSV file obtained from exporting the submission\n",
    "file_path = 'submissions.tsv'\n",
    "df = pd.read_csv(file_path, delimiter=\"\\t\")\n",
    "\n",
    "# Display the first few rows of the data\n",
    "df.head()\n"
   ]
  },
  {
   "cell_type": "code",
   "execution_count": null,
   "id": "7cc5211f",
   "metadata": {},
   "outputs": [],
   "source": [
    "import json\n",
    "\n",
    "def clean_json(x):\n",
    "    \"Create apply function for decoding JSON\"\n",
    "    return json.loads(x.replace(\"'\",'\"'))\n",
    "\n",
    "# parse JSON from Status Durations field\n",
    "df['Status Durations Parsed'] = df['Status Durations'].apply(clean_json)"
   ]
  },
  {
   "cell_type": "code",
   "execution_count": null,
   "id": "f7e64b66",
   "metadata": {},
   "outputs": [],
   "source": [
    "# Get set of all statuses.  Each row has key value pairs of status and total seconds spent in that status.  So we need to get the unique set of all such keys.\n",
    "statuses = set(x for xs in df['Status Durations Parsed'].agg(lambda x: set(x.keys())) for x in xs)\n",
    "status_cols = ['Status {}'.format(s) for s in statuses]\n",
    "for s in statuses:\n",
    "    df['Status {}'.format(s)] = df['Status Durations Parsed'].apply(lambda x: x.get(s))\n",
    "df.head()"
   ]
  },
  {
   "cell_type": "code",
   "execution_count": null,
   "id": "e6bb7a54",
   "metadata": {},
   "outputs": [],
   "source": [
    "# Group data by type, and only retain the status columns, divided by the number of seconds in an hour\n",
    "type_statuses = df.groupby('Type')[['Status {}'.format(s) for s in statuses]].agg('mean')/3600\n",
    "type_statuses"
   ]
  },
  {
   "cell_type": "code",
   "execution_count": null,
   "id": "f41423e4-d86a-4daf-a7cd-cbf68fcb9390",
   "metadata": {},
   "outputs": [],
   "source": [
    "# Plot the durations (in hours) for each type, and each status within that type\n",
    "type_statuses.T.plot.bar(subplots=True, figsize=(15, 50))"
   ]
  },
  {
   "cell_type": "code",
   "execution_count": null,
   "id": "5535f2be-1cfa-41f0-bbcc-2440eadb4e82",
   "metadata": {},
   "outputs": [],
   "source": [
    "# For each type, plot only the statuses which are used, and do so in descending order of duration to see what takes the longest.\n",
    "for t,cols in type_statuses.iterrows():\n",
    "    sorted_cols = cols.dropna().sort_values(ascending=False)\n",
    "    if len(sorted_cols) > 0:\n",
    "        plot = sorted_cols.plot(kind='bar', y='all', title=t, figsize=(15, 10))\n",
    "        plt.xticks(rotation=45)\n",
    "        plt.xlabel(\"Status\")\n",
    "        plt.ylabel(\"Duration (hours)\")\n",
    "        plt.show()"
   ]
  }
 ],
 "metadata": {
  "kernelspec": {
   "display_name": "Python 3 (ipykernel)",
   "language": "python",
   "name": "python3"
  },
  "language_info": {
   "codemirror_mode": {
    "name": "ipython",
    "version": 3
   },
   "file_extension": ".py",
   "mimetype": "text/x-python",
   "name": "python",
   "nbconvert_exporter": "python",
   "pygments_lexer": "ipython3",
   "version": "3.9.6"
  }
 },
 "nbformat": 4,
 "nbformat_minor": 5
}
